{
 "cells": [
  {
   "cell_type": "markdown",
   "id": "2e26a085",
   "metadata": {},
   "source": [
    "![NumPy Illustration](https://datascientest.com/en/wp-content/uploads/sites/9/2023/03/illu_numpy_blog-125.png)\n",
    "\n",
    "> NumPy: The core of Python's scientific computing.\n"
   ]
  },
  {
   "cell_type": "markdown",
   "id": "be1be762",
   "metadata": {},
   "source": [
    "\n",
    "# Introduction to NumPy\n",
    "\n",
    "NumPy is a fundamental package for scientific computing in Python. It offers support for large, multi-dimensional arrays and matrices, along with a vast collection of high-level mathematical functions to operate on these arrays.\n",
    "\n",
    "## Why NumPy?\n",
    "\n",
    "- <b style=\"color:blue\">Performance</b>: Efficient storage and computation for large data arrays.\n",
    "- <b style=\"color:green\">Functionality</b>: A broad array of functions to perform complex mathematical operations.\n",
    "- <b style=\"color:red\">Community</b>: Widely used in scientific computing, data science, and engineering communities.\n",
    "\n"
   ]
  },
  {
   "cell_type": "code",
   "execution_count": 1,
   "id": "1e71cc60",
   "metadata": {},
   "outputs": [],
   "source": [
    "import numpy as np   # Numpy is often times aliased as \"np\" \n",
    "                     # (\"np\" also reads : \"No Problem\" ) "
   ]
  },
  {
   "cell_type": "markdown",
   "id": "17c7ee17",
   "metadata": {},
   "source": [
    "\n",
    "## Array Creation\n",
    "\n",
    "Arrays can be created from Python lists, or using built-in NumPy functions:\n",
    "\n",
    "- From lists: `np.array(aList)`\n",
    "- Zeros: `np.zeros((nbOfLines, nbOfColumns))`\n",
    "- Ones: `np.ones((nbOfLines, nbOfColumns))`\n",
    "- Random: `np.random.random((nbOfLines, nbOfColumns))`\n"
   ]
  },
  {
   "cell_type": "code",
   "execution_count": 2,
   "id": "0eba3465",
   "metadata": {},
   "outputs": [
    {
     "data": {
      "text/plain": [
       "array([1, 2, 3, 4])"
      ]
     },
     "execution_count": 2,
     "metadata": {},
     "output_type": "execute_result"
    }
   ],
   "source": [
    "np.array([1, 2, 3, 4]) "
   ]
  },
  {
   "cell_type": "code",
   "execution_count": 3,
   "id": "ac41bcb0",
   "metadata": {},
   "outputs": [
    {
     "data": {
      "text/plain": [
       "array([[0., 0., 0., 0.],\n",
       "       [0., 0., 0., 0.],\n",
       "       [0., 0., 0., 0.]])"
      ]
     },
     "execution_count": 3,
     "metadata": {},
     "output_type": "execute_result"
    }
   ],
   "source": [
    "np.zeros((3, 4)) "
   ]
  },
  {
   "cell_type": "code",
   "execution_count": 4,
   "id": "cbf248c2",
   "metadata": {},
   "outputs": [
    {
     "data": {
      "text/plain": [
       "array([[1., 1., 1., 1., 1.],\n",
       "       [1., 1., 1., 1., 1.],\n",
       "       [1., 1., 1., 1., 1.],\n",
       "       [1., 1., 1., 1., 1.],\n",
       "       [1., 1., 1., 1., 1.],\n",
       "       [1., 1., 1., 1., 1.]])"
      ]
     },
     "execution_count": 4,
     "metadata": {},
     "output_type": "execute_result"
    }
   ],
   "source": [
    "np.ones((6, 5))"
   ]
  },
  {
   "cell_type": "code",
   "execution_count": 5,
   "id": "b78cc61f",
   "metadata": {},
   "outputs": [
    {
     "data": {
      "text/plain": [
       "array([[[0.5319408 , 0.37680324, 0.90002403],\n",
       "        [0.70742646, 0.61598821, 0.32848469],\n",
       "        [0.82020191, 0.31642948, 0.81296255]],\n",
       "\n",
       "       [[0.78441348, 0.33672838, 0.83319564],\n",
       "        [0.68191778, 0.00119483, 0.36593894],\n",
       "        [0.74118186, 0.35170721, 0.05083273]],\n",
       "\n",
       "       [[0.29897232, 0.609883  , 0.13469441],\n",
       "        [0.90565276, 0.80342514, 0.8698206 ],\n",
       "        [0.33191008, 0.13596625, 0.61587787]]])"
      ]
     },
     "execution_count": 5,
     "metadata": {},
     "output_type": "execute_result"
    }
   ],
   "source": [
    "A = np.random.random((3, 3, 3)) \n",
    "A"
   ]
  },
  {
   "cell_type": "markdown",
   "id": "da6fe7fa",
   "metadata": {},
   "source": [
    "\n",
    "## Array Indexing and Slicing\n",
    "\n",
    "Accessing array elements can be done through indexing and slicing:\n",
    "\n",
    "- Single element: `arr[2, 1]`\n",
    "- Slice: `arr[:, 1:3]`\n",
    "- Conditional: `arr[arr > 5]`\n"
   ]
  },
  {
   "cell_type": "code",
   "execution_count": 6,
   "id": "a0106bb6",
   "metadata": {},
   "outputs": [
    {
     "data": {
      "text/plain": [
       "array([[0.29897232, 0.609883  , 0.13469441],\n",
       "       [0.90565276, 0.80342514, 0.8698206 ],\n",
       "       [0.33191008, 0.13596625, 0.61587787]])"
      ]
     },
     "execution_count": 6,
     "metadata": {},
     "output_type": "execute_result"
    }
   ],
   "source": [
    "A[2]"
   ]
  },
  {
   "cell_type": "code",
   "execution_count": 7,
   "id": "1226559b",
   "metadata": {},
   "outputs": [
    {
     "data": {
      "text/plain": [
       "array([0.90565276, 0.80342514, 0.8698206 ])"
      ]
     },
     "execution_count": 7,
     "metadata": {},
     "output_type": "execute_result"
    }
   ],
   "source": [
    "A[2, 1]"
   ]
  },
  {
   "cell_type": "code",
   "execution_count": 8,
   "id": "3eb76c86",
   "metadata": {},
   "outputs": [
    {
     "data": {
      "text/plain": [
       "array([0.90565276, 0.80342514])"
      ]
     },
     "execution_count": 8,
     "metadata": {},
     "output_type": "execute_result"
    }
   ],
   "source": [
    "A[2, 1, :-1]"
   ]
  },
  {
   "cell_type": "code",
   "execution_count": 9,
   "id": "1992cd93",
   "metadata": {},
   "outputs": [
    {
     "data": {
      "text/plain": [
       "0.8034251373698303"
      ]
     },
     "execution_count": 9,
     "metadata": {},
     "output_type": "execute_result"
    }
   ],
   "source": [
    "A[2, 1, 1]"
   ]
  },
  {
   "cell_type": "code",
   "execution_count": 10,
   "id": "60a02ad3",
   "metadata": {},
   "outputs": [
    {
     "data": {
      "text/plain": [
       "array([[[0.5319408 , 0.37680324, 0.90002403],\n",
       "        [0.82020191, 0.31642948, 0.81296255]],\n",
       "\n",
       "       [[0.29897232, 0.609883  , 0.13469441],\n",
       "        [0.33191008, 0.13596625, 0.61587787]]])"
      ]
     },
     "execution_count": 10,
     "metadata": {},
     "output_type": "execute_result"
    }
   ],
   "source": [
    "A[::2,::2]"
   ]
  },
  {
   "cell_type": "markdown",
   "id": "a8273054",
   "metadata": {},
   "source": [
    "## Matrix Operations"
   ]
  },
  {
   "cell_type": "markdown",
   "id": "35dd245c",
   "metadata": {},
   "source": [
    "NumPy provides a wide range of operations that can be performed on arrays, including but not limited to matrix operations, element-wise operations, and statistical operations. Here's an overview of some of the key operations"
   ]
  },
  {
   "cell_type": "markdown",
   "id": "d4300316",
   "metadata": {},
   "source": [
    "### Matrix Multiplications\n",
    "\n",
    "- **Dot Product**: Calculates the dot product of two arrays. For 2-D vectors, it's equivalent to matrix multiplication.\n",
    "  \n",
    "  ```a = np.array([[1, 2], [3, 4]])```\n",
    "  \n",
    "  ```b = np.array([[5, 6], [7, 8]])```\n",
    "  \n",
    "  ```np.dot(a, b)```\n"
   ]
  },
  {
   "cell_type": "code",
   "execution_count": 11,
   "id": "aa157372",
   "metadata": {},
   "outputs": [],
   "source": [
    "a = np.array([[1, 2], [3, 4]])"
   ]
  },
  {
   "cell_type": "code",
   "execution_count": 12,
   "id": "5fe5719e",
   "metadata": {},
   "outputs": [],
   "source": [
    "b = np.array([[5, 6], [7, 8]])"
   ]
  },
  {
   "cell_type": "code",
   "execution_count": 13,
   "id": "609e9823",
   "metadata": {},
   "outputs": [
    {
     "data": {
      "text/plain": [
       "array([[19, 22],\n",
       "       [43, 50]])"
      ]
     },
     "execution_count": 13,
     "metadata": {},
     "output_type": "execute_result"
    }
   ],
   "source": [
    "np.dot(a, b)"
   ]
  },
  {
   "cell_type": "markdown",
   "id": "d4947248",
   "metadata": {},
   "source": [
    "- **Element-wise Multiplication**: Multiplies elements in the same position in two arrays."
   ]
  },
  {
   "cell_type": "code",
   "execution_count": 14,
   "id": "b4f04a31",
   "metadata": {},
   "outputs": [
    {
     "data": {
      "text/plain": [
       "array([[ 5, 12],\n",
       "       [21, 32]])"
      ]
     },
     "execution_count": 14,
     "metadata": {},
     "output_type": "execute_result"
    }
   ],
   "source": [
    "a * b\n"
   ]
  },
  {
   "cell_type": "markdown",
   "id": "41323f77",
   "metadata": {},
   "source": [
    "- **Element-wise Addition**: Adds elements in the same position in two arrays."
   ]
  },
  {
   "cell_type": "code",
   "execution_count": 15,
   "id": "d969b90a",
   "metadata": {},
   "outputs": [
    {
     "data": {
      "text/plain": [
       "array([[ 6,  8],\n",
       "       [10, 12]])"
      ]
     },
     "execution_count": 15,
     "metadata": {},
     "output_type": "execute_result"
    }
   ],
   "source": [
    "a + b\n"
   ]
  },
  {
   "cell_type": "markdown",
   "id": "f795ae09",
   "metadata": {},
   "source": [
    "- **Broadcast Addition**: Adds a scalar or an array of compatible shape to another array."
   ]
  },
  {
   "cell_type": "markdown",
   "id": "2fd9d5ff",
   "metadata": {},
   "source": [
    "#### Without Numpy :  "
   ]
  },
  {
   "cell_type": "code",
   "execution_count": 16,
   "id": "caec280b",
   "metadata": {},
   "outputs": [
    {
     "data": {
      "text/plain": [
       "[[1.0, 1.0, 1.0, 1.0, 1.0],\n",
       " [1.0, 1.0, 1.0, 1.0, 1.0],\n",
       " [1.0, 1.0, 1.0, 1.0, 1.0],\n",
       " [1.0, 1.0, 1.0, 1.0, 1.0],\n",
       " [1.0, 1.0, 1.0, 1.0, 1.0]]"
      ]
     },
     "execution_count": 16,
     "metadata": {},
     "output_type": "execute_result"
    }
   ],
   "source": [
    "L = [[1., 1., 1., 1., 1.],\n",
    "       [1., 1., 1., 1., 1.],\n",
    "       [1., 1., 1., 1., 1.],\n",
    "       [1., 1., 1., 1., 1.],\n",
    "       [1., 1., 1., 1., 1.]]\n",
    "L"
   ]
  },
  {
   "cell_type": "code",
   "execution_count": 17,
   "id": "afe55e72",
   "metadata": {},
   "outputs": [
    {
     "ename": "TypeError",
     "evalue": "can only concatenate list (not \"int\") to list",
     "output_type": "error",
     "traceback": [
      "\u001b[1;31m---------------------------------------------------------------------------\u001b[0m",
      "\u001b[1;31mTypeError\u001b[0m                                 Traceback (most recent call last)",
      "Cell \u001b[1;32mIn[17], line 1\u001b[0m\n\u001b[1;32m----> 1\u001b[0m L \u001b[38;5;241m+\u001b[39m \u001b[38;5;241m4\u001b[39m\n",
      "\u001b[1;31mTypeError\u001b[0m: can only concatenate list (not \"int\") to list"
     ]
    }
   ],
   "source": [
    "L + 4 "
   ]
  },
  {
   "cell_type": "markdown",
   "id": "685d03af",
   "metadata": {},
   "source": [
    "#### With Numpy "
   ]
  },
  {
   "cell_type": "code",
   "execution_count": null,
   "id": "cc6836ae",
   "metadata": {},
   "outputs": [],
   "source": [
    "A = np.ones((5,5))\n",
    "A"
   ]
  },
  {
   "cell_type": "code",
   "execution_count": null,
   "id": "d02a78b0",
   "metadata": {},
   "outputs": [],
   "source": [
    "A + 4"
   ]
  },
  {
   "cell_type": "markdown",
   "id": "6fd7b1e5",
   "metadata": {},
   "source": [
    "\n",
    "## Broadcasting\n",
    "\n",
    "Broadcasting enables arithmetic operations on arrays of different shapes:\n",
    "\n",
    "- `a = np.array([1, 2, 3])`\n",
    "- `b = np.array([[0], [1], [2]])`\n",
    "- `a + b`\n"
   ]
  },
  {
   "cell_type": "code",
   "execution_count": null,
   "id": "6b3e0cb7",
   "metadata": {},
   "outputs": [],
   "source": [
    "a = np.array([1, 2, 3])"
   ]
  },
  {
   "cell_type": "code",
   "execution_count": 18,
   "id": "72da533f",
   "metadata": {},
   "outputs": [],
   "source": [
    "b = np.array([[0], [1], [2]])"
   ]
  },
  {
   "cell_type": "code",
   "execution_count": 19,
   "id": "b9b5d7e5",
   "metadata": {},
   "outputs": [
    {
     "ename": "ValueError",
     "evalue": "operands could not be broadcast together with shapes (2,2) (3,1) ",
     "output_type": "error",
     "traceback": [
      "\u001b[1;31m---------------------------------------------------------------------------\u001b[0m",
      "\u001b[1;31mValueError\u001b[0m                                Traceback (most recent call last)",
      "Cell \u001b[1;32mIn[19], line 1\u001b[0m\n\u001b[1;32m----> 1\u001b[0m a \u001b[38;5;241m+\u001b[39m b\n",
      "\u001b[1;31mValueError\u001b[0m: operands could not be broadcast together with shapes (2,2) (3,1) "
     ]
    }
   ],
   "source": [
    "a + b"
   ]
  },
  {
   "cell_type": "markdown",
   "id": "c5eec9d0",
   "metadata": {},
   "source": [
    "## Transpositions"
   ]
  },
  {
   "cell_type": "markdown",
   "id": "27308026",
   "metadata": {},
   "source": [
    "- **Transpose**: Reverses the dimensions of an array. For a matrix, this means swapping rows and columns. ```a.T```"
   ]
  },
  {
   "cell_type": "code",
   "execution_count": 20,
   "id": "aba6d3b9",
   "metadata": {},
   "outputs": [
    {
     "data": {
      "text/plain": [
       "array([[1, 2],\n",
       "       [3, 4]])"
      ]
     },
     "execution_count": 20,
     "metadata": {},
     "output_type": "execute_result"
    }
   ],
   "source": [
    "a "
   ]
  },
  {
   "cell_type": "code",
   "execution_count": 21,
   "id": "f050daaa",
   "metadata": {},
   "outputs": [
    {
     "data": {
      "text/plain": [
       "array([[1, 3],\n",
       "       [2, 4]])"
      ]
     },
     "execution_count": 21,
     "metadata": {},
     "output_type": "execute_result"
    }
   ],
   "source": [
    "a.T"
   ]
  },
  {
   "cell_type": "markdown",
   "id": "3432ff2b",
   "metadata": {},
   "source": [
    "## Conjugations"
   ]
  },
  {
   "cell_type": "markdown",
   "id": "384faf3f",
   "metadata": {},
   "source": [
    "- **Conjugate**: Returns the complex conjugate of all elements in a complex array. ```np.conj(c)```\n"
   ]
  },
  {
   "cell_type": "code",
   "execution_count": 22,
   "id": "bf25b5b5",
   "metadata": {},
   "outputs": [
    {
     "data": {
      "text/plain": [
       "array([1.+2.j, 3.+4.j])"
      ]
     },
     "execution_count": 22,
     "metadata": {},
     "output_type": "execute_result"
    }
   ],
   "source": [
    "c = np.array([1+2j, 3+4j])\n",
    "c"
   ]
  },
  {
   "cell_type": "code",
   "execution_count": 23,
   "id": "af6abb2d",
   "metadata": {},
   "outputs": [
    {
     "data": {
      "text/plain": [
       "array([1.-2.j, 3.-4.j])"
      ]
     },
     "execution_count": 23,
     "metadata": {},
     "output_type": "execute_result"
    }
   ],
   "source": [
    "np.conj(c)"
   ]
  },
  {
   "cell_type": "markdown",
   "id": "622cc99e",
   "metadata": {},
   "source": [
    "## Absolute Values"
   ]
  },
  {
   "cell_type": "markdown",
   "id": "cc6a52b9",
   "metadata": {},
   "source": [
    "- **Absolute Value**: Calculates the absolute value of each element in the array.\n"
   ]
  },
  {
   "cell_type": "code",
   "execution_count": 24,
   "id": "c59f960d",
   "metadata": {},
   "outputs": [
    {
     "data": {
      "text/plain": [
       "array([-1, -2, -3])"
      ]
     },
     "execution_count": 24,
     "metadata": {},
     "output_type": "execute_result"
    }
   ],
   "source": [
    "d = np.array([-1, -2, -3])\n",
    "d"
   ]
  },
  {
   "cell_type": "code",
   "execution_count": 25,
   "id": "b24e1b0b",
   "metadata": {},
   "outputs": [
    {
     "data": {
      "text/plain": [
       "array([1, 2, 3])"
      ]
     },
     "execution_count": 25,
     "metadata": {},
     "output_type": "execute_result"
    }
   ],
   "source": [
    "np.abs(d)"
   ]
  },
  {
   "cell_type": "markdown",
   "id": "bb48336d",
   "metadata": {},
   "source": [
    "## Additional Operations"
   ]
  },
  {
   "cell_type": "markdown",
   "id": "2ea76e06",
   "metadata": {},
   "source": [
    "- **Inverse of a Matrix**: Calculates the multiplicative inverse of a matrix."
   ]
  },
  {
   "cell_type": "code",
   "execution_count": 26,
   "id": "04c1691e",
   "metadata": {},
   "outputs": [
    {
     "data": {
      "text/plain": [
       "array([[-2. ,  1. ],\n",
       "       [ 1.5, -0.5]])"
      ]
     },
     "execution_count": 26,
     "metadata": {},
     "output_type": "execute_result"
    }
   ],
   "source": [
    "np.linalg.inv(a)\n"
   ]
  },
  {
   "cell_type": "markdown",
   "id": "e95773dd",
   "metadata": {},
   "source": [
    "- **Determinant of a Matrix**: Calculates the determinant of an array."
   ]
  },
  {
   "cell_type": "code",
   "execution_count": 27,
   "id": "a457fd07",
   "metadata": {},
   "outputs": [
    {
     "data": {
      "text/plain": [
       "-2.0000000000000004"
      ]
     },
     "execution_count": 27,
     "metadata": {},
     "output_type": "execute_result"
    }
   ],
   "source": [
    "np.linalg.det(a)"
   ]
  },
  {
   "cell_type": "markdown",
   "id": "cd1e7a21",
   "metadata": {},
   "source": [
    "- **Eigenvalues and Eigenvectors**: Computes the eigenvalues and right eigenvectors of a square array."
   ]
  },
  {
   "cell_type": "code",
   "execution_count": 28,
   "id": "57697f85",
   "metadata": {},
   "outputs": [
    {
     "data": {
      "text/plain": [
       "(array([-0.37228132,  5.37228132]),\n",
       " array([[-0.82456484, -0.41597356],\n",
       "        [ 0.56576746, -0.90937671]]))"
      ]
     },
     "execution_count": 28,
     "metadata": {},
     "output_type": "execute_result"
    }
   ],
   "source": [
    "np.linalg.eig(a)"
   ]
  },
  {
   "cell_type": "markdown",
   "id": "58fb257d",
   "metadata": {},
   "source": [
    "- **Solving Linear Equations**: Solves a linear matrix equation, or system of linear scalar equations."
   ]
  },
  {
   "cell_type": "code",
   "execution_count": 29,
   "id": "a504ad5d",
   "metadata": {},
   "outputs": [
    {
     "ename": "ValueError",
     "evalue": "solve: Input operand 1 has a mismatch in its core dimension 0, with gufunc signature (m,m),(m,n)->(m,n) (size 3 is different from 2)",
     "output_type": "error",
     "traceback": [
      "\u001b[1;31m---------------------------------------------------------------------------\u001b[0m",
      "\u001b[1;31mValueError\u001b[0m                                Traceback (most recent call last)",
      "Cell \u001b[1;32mIn[29], line 1\u001b[0m\n\u001b[1;32m----> 1\u001b[0m np\u001b[38;5;241m.\u001b[39mlinalg\u001b[38;5;241m.\u001b[39msolve(a, b)\n",
      "File \u001b[1;32m<__array_function__ internals>:200\u001b[0m, in \u001b[0;36msolve\u001b[1;34m(*args, **kwargs)\u001b[0m\n",
      "File \u001b[1;32mC:\\ProgramData\\anaconda3\\Lib\\site-packages\\numpy\\linalg\\linalg.py:386\u001b[0m, in \u001b[0;36msolve\u001b[1;34m(a, b)\u001b[0m\n\u001b[0;32m    384\u001b[0m signature \u001b[38;5;241m=\u001b[39m \u001b[38;5;124m'\u001b[39m\u001b[38;5;124mDD->D\u001b[39m\u001b[38;5;124m'\u001b[39m \u001b[38;5;28;01mif\u001b[39;00m isComplexType(t) \u001b[38;5;28;01melse\u001b[39;00m \u001b[38;5;124m'\u001b[39m\u001b[38;5;124mdd->d\u001b[39m\u001b[38;5;124m'\u001b[39m\n\u001b[0;32m    385\u001b[0m extobj \u001b[38;5;241m=\u001b[39m get_linalg_error_extobj(_raise_linalgerror_singular)\n\u001b[1;32m--> 386\u001b[0m r \u001b[38;5;241m=\u001b[39m gufunc(a, b, signature\u001b[38;5;241m=\u001b[39msignature, extobj\u001b[38;5;241m=\u001b[39mextobj)\n\u001b[0;32m    388\u001b[0m \u001b[38;5;28;01mreturn\u001b[39;00m wrap(r\u001b[38;5;241m.\u001b[39mastype(result_t, copy\u001b[38;5;241m=\u001b[39m\u001b[38;5;28;01mFalse\u001b[39;00m))\n",
      "\u001b[1;31mValueError\u001b[0m: solve: Input operand 1 has a mismatch in its core dimension 0, with gufunc signature (m,m),(m,n)->(m,n) (size 3 is different from 2)"
     ]
    }
   ],
   "source": [
    "np.linalg.solve(a, b)"
   ]
  },
  {
   "cell_type": "markdown",
   "id": "535bf8d4",
   "metadata": {},
   "source": [
    "\n",
    "## Basic Operations\n",
    "\n",
    "NumPy arrays support element-wise arithmetic operations:\n",
    "\n",
    "- Addition: `a + b`\n",
    "- Subtraction: `a - b`\n",
    "- Multiplication: `a * b`\n",
    "- Division: `a / b`\n"
   ]
  },
  {
   "cell_type": "code",
   "execution_count": 30,
   "id": "5fb0d1cc",
   "metadata": {},
   "outputs": [],
   "source": [
    "a = 1\n",
    "b = 2 "
   ]
  },
  {
   "cell_type": "code",
   "execution_count": 31,
   "id": "7046095b",
   "metadata": {},
   "outputs": [
    {
     "data": {
      "text/plain": [
       "3"
      ]
     },
     "execution_count": 31,
     "metadata": {},
     "output_type": "execute_result"
    }
   ],
   "source": [
    "a + b "
   ]
  },
  {
   "cell_type": "code",
   "execution_count": 32,
   "id": "ab56bc23",
   "metadata": {},
   "outputs": [
    {
     "data": {
      "text/plain": [
       "-1"
      ]
     },
     "execution_count": 32,
     "metadata": {},
     "output_type": "execute_result"
    }
   ],
   "source": [
    "1 - b "
   ]
  },
  {
   "cell_type": "code",
   "execution_count": 33,
   "id": "a6a78697",
   "metadata": {},
   "outputs": [
    {
     "data": {
      "text/plain": [
       "2"
      ]
     },
     "execution_count": 33,
     "metadata": {},
     "output_type": "execute_result"
    }
   ],
   "source": [
    "a * b "
   ]
  },
  {
   "cell_type": "code",
   "execution_count": 34,
   "id": "b4776041",
   "metadata": {},
   "outputs": [
    {
     "data": {
      "text/plain": [
       "0.5"
      ]
     },
     "execution_count": 34,
     "metadata": {},
     "output_type": "execute_result"
    }
   ],
   "source": [
    "a / b "
   ]
  },
  {
   "cell_type": "markdown",
   "id": "8ca06a7e",
   "metadata": {},
   "source": [
    "\n",
    "## Array Manipulation\n",
    "\n",
    "Reshaping, splitting, and concatenating arrays:\n",
    "\n",
    "- Reshape: `np.reshape(a, newshape=(2, 3))`\n",
    "- Concatenate: `np.concatenate((a1, a2), axis=0)`\n",
    "- Split: `np.split(a, 3)`\n"
   ]
  },
  {
   "cell_type": "code",
   "execution_count": 35,
   "id": "ff5013c5",
   "metadata": {},
   "outputs": [
    {
     "data": {
      "text/plain": [
       "array([0, 1, 2, 3, 4, 5])"
      ]
     },
     "execution_count": 35,
     "metadata": {},
     "output_type": "execute_result"
    }
   ],
   "source": [
    "B = np.array((list(range(6))))\n",
    "B"
   ]
  },
  {
   "cell_type": "code",
   "execution_count": 36,
   "id": "03510f15",
   "metadata": {},
   "outputs": [
    {
     "data": {
      "text/plain": [
       "array([[0, 1, 2],\n",
       "       [3, 4, 5]])"
      ]
     },
     "execution_count": 36,
     "metadata": {},
     "output_type": "execute_result"
    }
   ],
   "source": [
    "np.reshape(B, newshape=(2, 3))"
   ]
  },
  {
   "cell_type": "markdown",
   "id": "dd062856",
   "metadata": {},
   "source": [
    "\n",
    "## Loading and Saving Data\n",
    "\n",
    "NumPy provides functions to easily load and save data:\n",
    "\n",
    "- Save: `np.save('my_array', arr)`\n",
    "- Load: `np.load('my_array.npy')`\n"
   ]
  },
  {
   "cell_type": "code",
   "execution_count": 37,
   "id": "692975b0",
   "metadata": {},
   "outputs": [],
   "source": [
    "np.save('my_array_B', B)\n"
   ]
  },
  {
   "cell_type": "code",
   "execution_count": 38,
   "id": "90158349",
   "metadata": {},
   "outputs": [],
   "source": [
    "del B "
   ]
  },
  {
   "cell_type": "code",
   "execution_count": 39,
   "id": "ac424c49",
   "metadata": {},
   "outputs": [
    {
     "ename": "NameError",
     "evalue": "name 'B' is not defined",
     "output_type": "error",
     "traceback": [
      "\u001b[1;31m---------------------------------------------------------------------------\u001b[0m",
      "\u001b[1;31mNameError\u001b[0m                                 Traceback (most recent call last)",
      "Cell \u001b[1;32mIn[39], line 1\u001b[0m\n\u001b[1;32m----> 1\u001b[0m B\n",
      "\u001b[1;31mNameError\u001b[0m: name 'B' is not defined"
     ]
    }
   ],
   "source": [
    "B"
   ]
  },
  {
   "cell_type": "code",
   "execution_count": 40,
   "id": "39191176",
   "metadata": {},
   "outputs": [],
   "source": [
    " B = np.load('my_array_B.npy')"
   ]
  },
  {
   "cell_type": "code",
   "execution_count": 41,
   "id": "7ebef8c2",
   "metadata": {},
   "outputs": [
    {
     "data": {
      "text/plain": [
       "array([0, 1, 2, 3, 4, 5])"
      ]
     },
     "execution_count": 41,
     "metadata": {},
     "output_type": "execute_result"
    }
   ],
   "source": [
    "B"
   ]
  },
  {
   "cell_type": "markdown",
   "id": "5ee5fb11",
   "metadata": {},
   "source": [
    "![NumPy Illustration](https://thumbs.dreamstime.com/z/d-illustration-red-character-running-faster-than-blue-one-overtaking-competition-concept-114868246.jpg?ct=jpeg)"
   ]
  },
  {
   "cell_type": "markdown",
   "id": "24850e09",
   "metadata": {},
   "source": [
    "## Python List vs. NumPy Array Summation"
   ]
  },
  {
   "cell_type": "markdown",
   "id": "40bbfd71",
   "metadata": {},
   "source": [
    "We'll sum ```5.10^7``` numbers using both a Python list and a NumPy array and measure the time it takes for each operation."
   ]
  },
  {
   "cell_type": "markdown",
   "id": "568ccf27",
   "metadata": {},
   "source": [
    "First, let's create a Python list and a NumPy array with ```5.10^7```\n",
    " random numbers. Then, we'll use the ```%timeit``` magic command in Jupyter to measure the execution time of summing the elements in each case."
   ]
  },
  {
   "cell_type": "code",
   "execution_count": 53,
   "id": "d42254c7",
   "metadata": {},
   "outputs": [],
   "source": [
    "import numpy as np\n",
    "import time\n",
    "\n",
    "# Creating a large list and a large NumPy array with 1 million elements\n",
    "n_elements = 5*10**7\n",
    "large_list = list(range(n_elements))\n",
    "large_array = np.arange(n_elements)\n"
   ]
  },
  {
   "cell_type": "code",
   "execution_count": 54,
   "id": "7af39c4b",
   "metadata": {},
   "outputs": [
    {
     "name": "stdout",
     "output_type": "stream",
     "text": [
      "2.32 s ± 57.3 ms per loop (mean ± std. dev. of 7 runs, 1 loop each)\n"
     ]
    }
   ],
   "source": [
    "def sum_python_list(large_list):\n",
    "    total = 0\n",
    "    for number in large_list:\n",
    "        total += number\n",
    "    return total\n",
    "\n",
    "%timeit sum_python_list(large_list)\n"
   ]
  },
  {
   "cell_type": "code",
   "execution_count": 55,
   "id": "b522662a",
   "metadata": {},
   "outputs": [
    {
     "name": "stdout",
     "output_type": "stream",
     "text": [
      "18.8 ms ± 295 µs per loop (mean ± std. dev. of 7 runs, 100 loops each)\n"
     ]
    }
   ],
   "source": [
    "%timeit np.sum(large_array)\n"
   ]
  },
  {
   "cell_type": "code",
   "execution_count": 52,
   "id": "02c4ac8f",
   "metadata": {},
   "outputs": [
    {
     "name": "stdout",
     "output_type": "stream",
     "text": [
      "CPU times: total: 0 ns\n",
      "Wall time: 1.85 ms\n"
     ]
    },
    {
     "data": {
      "text/plain": [
       "1642668640"
      ]
     },
     "execution_count": 52,
     "metadata": {},
     "output_type": "execute_result"
    }
   ],
   "source": [
    "%%time\n",
    "\n",
    "np.sum(large_array)\n"
   ]
  },
  {
   "cell_type": "code",
   "execution_count": null,
   "id": "c4300c38",
   "metadata": {},
   "outputs": [],
   "source": []
  }
 ],
 "metadata": {
  "kernelspec": {
   "display_name": "Python 3 (ipykernel)",
   "language": "python",
   "name": "python3"
  },
  "language_info": {
   "codemirror_mode": {
    "name": "ipython",
    "version": 3
   },
   "file_extension": ".py",
   "mimetype": "text/x-python",
   "name": "python",
   "nbconvert_exporter": "python",
   "pygments_lexer": "ipython3",
   "version": "3.11.4"
  }
 },
 "nbformat": 4,
 "nbformat_minor": 5
}
