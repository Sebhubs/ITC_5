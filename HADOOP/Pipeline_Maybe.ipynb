{
 "cells": [
  {
   "cell_type": "code",
   "execution_count": 69,
   "id": "8cbc290c",
   "metadata": {},
   "outputs": [
    {
     "name": "stdout",
     "output_type": "stream",
     "text": [
      "Once deleted, variables cannot be recovered. Proceed (y/[n])? y\n"
     ]
    }
   ],
   "source": [
    "%reset"
   ]
  },
  {
   "cell_type": "code",
   "execution_count": null,
   "id": "e70df47e",
   "metadata": {},
   "outputs": [],
   "source": []
  },
  {
   "cell_type": "code",
   "execution_count": 70,
   "id": "2519b2f7",
   "metadata": {},
   "outputs": [
    {
     "name": "stdout",
     "output_type": "stream",
     "text": [
      "Table created (if not existed) and data upserted successfully!\n"
     ]
    }
   ],
   "source": [
    "import psycopg2\n",
    "import csv\n",
    "\n",
    "# Replace these variables with your actual database connection details\n",
    "hostname = 'ec2-3-9-191-104.eu-west-2.compute.amazonaws.com'\n",
    "database = 'testdb'\n",
    "username = 'consultants'\n",
    "password = 'WelcomeItc@2022'\n",
    "port_id = 5432\n",
    "\n",
    "# Name of the local 'csv' file\n",
    "txtfile = \"zz_seb_table_1\"\n",
    "# Set table name\n",
    "tableName = f\"public.{txtfile}\"\n",
    "\n",
    "# Corrected path to your CSV file for Windows\n",
    "# csv_file_path = r\"C:\\Users\\sebou\\demo\\ITC\\ITC\\HADOOP\\seb_table_0.txt\" \n",
    "csv_file_path = r\"C:\\Users\\sebou\\demo\\ITC\\ITC\\HADOOP\\zz_seb_table_1.txt\" \n",
    "\n",
    "try:\n",
    "    # Establishing the connection\n",
    "    conn = psycopg2.connect(\n",
    "        host=hostname,\n",
    "        dbname=database,\n",
    "        user=username,\n",
    "        password=password,\n",
    "        port=port_id\n",
    "    )\n",
    "    conn.autocommit = False  # Start transaction control\n",
    "    cursor = conn.cursor()\n",
    "\n",
    "\n",
    "    # Create a table with 'id' as the PRIMARY KEY if it doesn't exist\n",
    "    create_table_query = f\"\"\"\n",
    "    CREATE TABLE IF NOT EXISTS {tableName} (\n",
    "        id INT PRIMARY KEY,\n",
    "        name VARCHAR(255) NOT NULL,\n",
    "        age INT NOT NULL\n",
    "    );\n",
    "    \"\"\"\n",
    "    cursor.execute(create_table_query)\n",
    "\n",
    "    # Open the CSV file and skip the header row\n",
    "    with open(csv_file_path, 'r') as csv_file:\n",
    "        csv_reader = csv.DictReader(csv_file)  # Using DictReader to handle columns by name\n",
    "\n",
    "        for row in csv_reader:\n",
    "            # Upsert query using ON CONFLICT clause\n",
    "            upsert_query = f\"\"\"\n",
    "            INSERT INTO {tableName} (id, name, age) VALUES (%s, %s, %s)\n",
    "            ON CONFLICT (id) DO UPDATE\n",
    "            SET name = EXCLUDED.name, age = EXCLUDED.age;\n",
    "            \"\"\"\n",
    "            cursor.execute(upsert_query, (row['id'], row['name'], row['age']))\n",
    "\n",
    "    # Commit the transaction\n",
    "    conn.commit()\n",
    "    print(\"Table created (if not existed) and data upserted successfully!\")\n",
    "\n",
    "except psycopg2.Error as e:\n",
    "    print(\"Database error:\", e)\n",
    "    conn.rollback()  # Rollback in case of any error\n",
    "\n",
    "finally:\n",
    "    # Closing the cursor and connection\n",
    "    if cursor:\n",
    "        cursor.close()\n",
    "    if conn:\n",
    "        conn.close()\n",
    "\n",
    "        "
   ]
  },
  {
   "cell_type": "code",
   "execution_count": 85,
   "id": "05da319a",
   "metadata": {},
   "outputs": [],
   "source": [
    "# tableName = f\"public.{txtfile}\"\n",
    "tableName = f\"public.zz_seb_table_1\""
   ]
  },
  {
   "cell_type": "code",
   "execution_count": 86,
   "id": "cabc24d5",
   "metadata": {},
   "outputs": [
    {
     "name": "stdout",
     "output_type": "stream",
     "text": [
      "(1, 'John Doe', 30)\n",
      "(2, 'Jane Smith', 32)\n",
      "(3, 'Alex Johnson', 25)\n",
      "(4, 'Maria Garcia', 28)\n",
      "(5, 'Chen Wei', 33)\n",
      "(6, 'Olivia Brown', 29)\n",
      "(7, 'Liam Miller', 31)\n",
      "(8, 'Emma Wilson', 27)\n",
      "(9, 'Noah Davis', 34)\n",
      "(10, 'Ava Taylor', 26)\n",
      "(11, 'aJohn Doe', 30)\n"
     ]
    }
   ],
   "source": [
    "import psycopg2\n",
    "from sqlalchemy import create_engine\n",
    "\n",
    "# Replace these variables with your actual database connection details\n",
    "hostname = 'ec2-3-9-191-104.eu-west-2.compute.amazonaws.com'\n",
    "username = 'consultants'\n",
    "password = 'WelcomeItc@2022'\n",
    "port_id = 5432\n",
    "database = 'testdb'\n",
    "\n",
    "# Correctly URL-encoded password in the database URL\n",
    "database_url = ('postgresql://'\n",
    "                f'{username}:'\n",
    "                'WelcomeItc%402022'\n",
    "                f'@{hostname}'\n",
    "                f':{port_id}'\n",
    "                f'/{database}' )\n",
    "\n",
    "engine = create_engine(database_url)\n",
    "\n",
    "# To execute a query and fetch results with SQLAlchemy\n",
    "# tableName = \"your_table_name\"  # Replace with your actual table name\n",
    "with engine.connect() as connection:\n",
    "    result = connection.execute(f\"SELECT * FROM {tableName} ;\")\n",
    "    for row in result:\n",
    "        print(row)\n"
   ]
  },
  {
   "cell_type": "code",
   "execution_count": null,
   "id": "081c1895",
   "metadata": {},
   "outputs": [],
   "source": []
  },
  {
   "cell_type": "code",
   "execution_count": null,
   "id": "3e60a04e",
   "metadata": {},
   "outputs": [],
   "source": []
  },
  {
   "cell_type": "code",
   "execution_count": null,
   "id": "a2df3160",
   "metadata": {},
   "outputs": [],
   "source": []
  },
  {
   "cell_type": "code",
   "execution_count": null,
   "id": "7d94cced",
   "metadata": {},
   "outputs": [],
   "source": [
    "# Open the permissions widely on the warehouse\n",
    "sudo -u hdfs hdfs dfs -chmod -R 777 /tmp/USUK30/seb/hive/the_z_file/\n",
    "sudo -u hdfs hdfs dfs -chown -R hive:hive /tmp/USUK30/seb/hive/the_z_file/\n"
   ]
  },
  {
   "cell_type": "code",
   "execution_count": null,
   "id": "825a6726",
   "metadata": {},
   "outputs": [],
   "source": [
    "# On Hive, find the max_id \n",
    "# Store it into a variable and next cell:"
   ]
  },
  {
   "cell_type": "code",
   "execution_count": null,
   "id": "6adeeee4",
   "metadata": {},
   "outputs": [],
   "source": [
    "last_value=$(beeline -u 'jdbc:hive2://ip-172-31-3-80.eu-west-2.compute.internal:10000/default;' --silent=true -e \"SELECT MAX(id) FROM ze_table;\" | grep -o '[0-9]*' | tail -n 1)\n",
    "echo $last_value\n",
    "\n",
    "--last-value $last_value \\"
   ]
  },
  {
   "cell_type": "code",
   "execution_count": null,
   "id": "cf51b59c",
   "metadata": {},
   "outputs": [],
   "source": []
  },
  {
   "cell_type": "code",
   "execution_count": null,
   "id": "79945f52",
   "metadata": {},
   "outputs": [],
   "source": []
  },
  {
   "cell_type": "code",
   "execution_count": null,
   "id": "1c27fb82",
   "metadata": {},
   "outputs": [],
   "source": [
    "#!/bin/bash\n",
    "\n",
    "### This works and does the incremental load \n",
    "\n",
    "sqoop import \\\n",
    "    --connect jdbc:postgresql://ec2-3-9-191-104.eu-west-2.compute.amazonaws.com:5432/testdb \\\n",
    "    --username consultants \\\n",
    "    --password WelcomeItc@2022 \\\n",
    "    --query \"SELECT * FROM public.ze_table WHERE id > 19 AND \\$CONDITIONS\" \\\n",
    "    --target-dir /tmp/USUK30/seb/hive/import_23/ \\\n",
    "    --split-by id \\\n",
    "    --as-textfile \\\n",
    "    --incremental append \\\n",
    "    --check-column id \\\n",
    "    --last-value 19\n",
    "\n"
   ]
  },
  {
   "cell_type": "code",
   "execution_count": null,
   "id": "10a39681",
   "metadata": {},
   "outputs": [],
   "source": []
  },
  {
   "cell_type": "code",
   "execution_count": null,
   "id": "e4f3a4e9",
   "metadata": {},
   "outputs": [],
   "source": [
    "Automating the Workflow\n",
    "For automation, consider scripting the entire process or using orchestration tools like Apache Airflow. You can set up a DAG (Directed Acyclic Graph) that:\n",
    "\n",
    "Watches for changes in the CSV file.\n",
    "Updates the PostgreSQL database.\n",
    "Runs the Sqoop job to update Hive."
   ]
  },
  {
   "cell_type": "code",
   "execution_count": null,
   "id": "47ed4b4c",
   "metadata": {},
   "outputs": [],
   "source": []
  },
  {
   "cell_type": "code",
   "execution_count": null,
   "id": "1e58ddd0",
   "metadata": {},
   "outputs": [],
   "source": []
  },
  {
   "cell_type": "code",
   "execution_count": 43,
   "id": "6ecf507f",
   "metadata": {},
   "outputs": [
    {
     "name": "stdout",
     "output_type": "stream",
     "text": [
      "Connected to the database.\n",
      "An error occurred: permission denied to create role\n",
      "\n",
      "Database connection closed.\n"
     ]
    }
   ],
   "source": [
    "import psycopg2\n",
    "\n",
    "# Replace these variables with your actual database connection details\n",
    "host = \"ec2-3-9-191-104.eu-west-2.compute.amazonaws.com\"\n",
    "dbname = \"testdb\"\n",
    "user = \"consultants\"  # Use your master user with privileges to create roles and grant permissions\n",
    "password = \"WelcomeItc@2022\"\n",
    "port = \"5432\"\n",
    "\n",
    "conn_string = f\"host={host} dbname={dbname} user={user} password={password} port={port}\"\n",
    "\n",
    "try:\n",
    "    # Connect to the PostgreSQL server\n",
    "    conn = psycopg2.connect(conn_string)\n",
    "    print(\"Connected to the database.\")\n",
    "    cur = conn.cursor()\n",
    "    \n",
    "    # Create role\n",
    "    cur.execute(\"CREATE ROLE consultants LOGIN PASSWORD 'WelcomeItc@2022';\")\n",
    "    \n",
    "    # Grant SELECT permission on the table for import operations\n",
    "    cur.execute(\"GRANT SELECT ON seb_table TO consultants;\")\n",
    "    \n",
    "    # Grant additional permissions as needed\n",
    "    cur.execute(\"GRANT INSERT, UPDATE, DELETE ON seb_table TO consultants;\")\n",
    "    \n",
    "    # Optionally grant CREATE on the database\n",
    "    cur.execute(\"GRANT CREATE ON DATABASE your_database_name TO consultants;\")\n",
    "\n",
    "    # Commit the transaction\n",
    "    conn.commit()\n",
    "    print(\"Role created and permissions granted.\")\n",
    "    \n",
    "except Exception as e:\n",
    "    print(f\"An error occurred: {e}\")\n",
    "finally:\n",
    "    # Close the connection\n",
    "    if conn:\n",
    "        conn.close()\n",
    "        print(\"Database connection closed.\")\n"
   ]
  },
  {
   "cell_type": "code",
   "execution_count": null,
   "id": "5d3c8934",
   "metadata": {},
   "outputs": [],
   "source": []
  },
  {
   "cell_type": "code",
   "execution_count": 44,
   "id": "eb4f72f7",
   "metadata": {},
   "outputs": [
    {
     "name": "stdout",
     "output_type": "stream",
     "text": [
      "An error occurred: permission denied to create role\n",
      "\n"
     ]
    }
   ],
   "source": [
    "import psycopg2\n",
    "from psycopg2.extensions import ISOLATION_LEVEL_AUTOCOMMIT\n",
    "\n",
    "# Database connection parameters\n",
    "hostname = 'ec2-3-9-191-104.eu-west-2.compute.amazonaws.com'\n",
    "dbname = 'testdb'\n",
    "username = 'consultants'\n",
    "password = 'WelcomeItc@2022'\n",
    "port_id = 5432\n",
    "\n",
    "# Connect to PostgreSQL DB as a superuser or a user with necessary privileges\n",
    "try:\n",
    "    conn = psycopg2.connect(\n",
    "        host=hostname,\n",
    "        dbname=dbname,\n",
    "        user=username,\n",
    "        password=password,\n",
    "        port=port_id\n",
    "    )\n",
    "    conn.set_isolation_level(ISOLATION_LEVEL_AUTOCOMMIT)  # Required for executing CREATE DATABASE command\n",
    "    cursor = conn.cursor()\n",
    "\n",
    "    # Commands to execute\n",
    "    create_role_command = \"CREATE ROLE new_role LOGIN PASSWORD 'password';\"\n",
    "    grant_privileges_command = \"GRANT ALL PRIVILEGES ON DATABASE testdb TO new_role;\"\n",
    "\n",
    "    # Execute commands\n",
    "    cursor.execute(create_role_command)\n",
    "    cursor.execute(grant_privileges_command)\n",
    "    \n",
    "    print(\"Role created and privileges granted successfully.\")\n",
    "\n",
    "except Exception as e:\n",
    "    print(f\"An error occurred: {e}\")\n",
    "\n",
    "finally:\n",
    "    cursor.close()\n",
    "    conn.close()\n"
   ]
  },
  {
   "cell_type": "code",
   "execution_count": null,
   "id": "2680310f",
   "metadata": {},
   "outputs": [],
   "source": []
  },
  {
   "cell_type": "code",
   "execution_count": null,
   "id": "9fc3d729",
   "metadata": {},
   "outputs": [],
   "source": []
  },
  {
   "cell_type": "code",
   "execution_count": null,
   "id": "6b0b8858",
   "metadata": {},
   "outputs": [],
   "source": []
  },
  {
   "cell_type": "code",
   "execution_count": null,
   "id": "6b8e35f9",
   "metadata": {},
   "outputs": [],
   "source": [
    "sqoop import \\\n",
    "--connect jdbc:postgresql://ec2-3-9-191-104.eu-west-2.compute.amazonaws.com:5432/testdb \\\n",
    "--username consultants --password WelcomeItc@2022 \\\n",
    "--table public.seb_table \\  # Ensure this matches your PostgreSQL table name\n",
    "--hive-import --hive-table yadb.seb_table \\  # Adjust the Hive database and table name as needed\n",
    "--target-dir /user/hive/warehouse/default.db/seb_table \\  # Adjust the target directory as needed\n",
    "--delete-target-dir \\  # This deletes the target directory before importing\n",
    "--fields-terminated-by \",\" \\\n",
    "-m 1 \\\n",
    "--hs2-url \"jdbc:hive2://ip-172-31-3-80.eu-west-2.compute.internal:10000/default;\"\n"
   ]
  },
  {
   "cell_type": "code",
   "execution_count": null,
   "id": "400479dd",
   "metadata": {},
   "outputs": [],
   "source": [
    "sqoop import \\\n",
    "--connect jdbc:postgresql://ec2-3-9-191-104.eu-west-2.compute.amazonaws.com:5432/testdb \\\n",
    "--username consultants --password WelcomeItc@2022 \\\n",
    "--table public.seb_table \\  # Ensure this matches your PostgreSQL table name\n",
    "--hive-import --hive-table seb_table_on_hive_2 \\  # Adjust the Hive database and table name as needed\n",
    "--target-dir /user/hive/warehouse/default.db/seb_table_on_hive_2 \\  # Adjust the target directory as needed\n",
    "--delete-target-dir \\  # This deletes the target directory before importing\n",
    "--fields-terminated-by \",\" \\\n",
    "-m 1 \\\n",
    "--hs2-url \"jdbc:hive2://ip-172-31-3-80.eu-west-2.compute.internal:10000/default;\"\n"
   ]
  },
  {
   "cell_type": "code",
   "execution_count": null,
   "id": "6d6d5328",
   "metadata": {},
   "outputs": [],
   "source": [
    "sqoop import \\\n",
    "  --connect jdbc:postgresql://ec2-3-9-191-104.eu-west-2.compute.amazonaws.com:5432/testdb \\\n",
    "  --username consultants \\\n",
    "  --password WelcomeItc@2022 \\\n",
    "  --table public.seb_table \\\n",
    "  --hive-import \\\n",
    "  --hive-database default \\\n",
    "  --hive-table seb_table_on_hive \\\n",
    "  --incremental append \\\n",
    "  --check-column id \\\n",
    "  --last-value 20 \\\n",
    "  -m 1 \\\n",
    "  --hs2-url \"jdbc:hive2://ip-172-31-3-80.eu-west-2.compute.internal:10000/default\"\n"
   ]
  },
  {
   "cell_type": "code",
   "execution_count": null,
   "id": "bc40b5b5",
   "metadata": {},
   "outputs": [],
   "source": [
    "sqoop import \\\n",
    "  --connect jdbc:postgresql://ec2-3-9-191-104.eu-west-2.compute.amazonaws.com:5432/testdb \\\n",
    "  --username consultants \\\n",
    "  --password WelcomeItc@2022 \\\n",
    "  --table seb_table \\\n",
    "  --hive-import \\\n",
    "  --hive-database default \\\n",
    "  --hive-table seb_table_on_hive \\\n",
    "  --incremental append \\\n",
    "  --check-column id \\\n",
    "  --last-value 20 \\\n",
    "  -m 1 \\\n",
    "  --hs2-url \"jdbc:hive2://ip-172-31-3-80.eu-west-2.compute.internal:10000/default\"\n"
   ]
  },
  {
   "cell_type": "code",
   "execution_count": null,
   "id": "2801b440",
   "metadata": {},
   "outputs": [],
   "source": [
    "sqoop import \\\n",
    "  --connect jdbc:postgresql://ec2-3-9-191-104.eu-west-2.compute.amazonaws.com:5432/testdb \\\n",
    "  --username consultants \\\n",
    "  --password WelcomeItc@2022 \\\n",
    "  --table seb_table \\\n",
    "  --hive-import \\\n",
    "  --hive-database default \\\n",
    "  --hive-table seb_table_on_hive \\\n",
    "  --incremental append \\\n",
    "  --check-column id \\\n",
    "  --last-value 20 \\\n",
    "  -m 1 \\\n",
    "  --hs2-url \"jdbc:hive2://ip-172-31-3-80.eu-west-2.compute.internal:10000/default\"\n"
   ]
  },
  {
   "cell_type": "code",
   "execution_count": null,
   "id": "3ff29527",
   "metadata": {},
   "outputs": [],
   "source": []
  },
  {
   "cell_type": "code",
   "execution_count": null,
   "id": "329e6a0e",
   "metadata": {},
   "outputs": [],
   "source": [
    "sqoop import \\\n",
    "--connect jdbc:postgresql://ec2-3-9-191-104.eu-west-2.compute.amazonaws.com:5432/testdb \\\n",
    "--username consultants \\\n",
    "--password WelcomeItc@2022 \\\n",
    "--table seb_table \\\n",
    "--hive-import \\\n",
    "--hive-database default \\\n",
    "--hive-table seb_table_on_hive \\\n",
    "--incremental append \\\n",
    "--check-column id \\\n",
    "--last-value 20 \\\n",
    "-m 1 \\\n",
    "--hs2-url \"jdbc:hive2://ip-172-31-3-80.eu-west-2.compute.internal:10000/default\""
   ]
  },
  {
   "cell_type": "code",
   "execution_count": null,
   "id": "78a10994",
   "metadata": {},
   "outputs": [],
   "source": []
  },
  {
   "cell_type": "code",
   "execution_count": null,
   "id": "a6967997",
   "metadata": {},
   "outputs": [],
   "source": [
    "sqoop import \\\n",
    "--connect jdbc:postgresql://ec2-3-9-191-104.eu-west-2.compute.amazonaws.com:5432/testdb \\\n",
    "--username consultants \\\n",
    "--password WelcomeItc@2022 \\\n",
    "--table seb_table \\\n",
    "--hive-import \\\n",
    "--hive-database yadb \\\n",
    "--hive-table seb_table_on_hive_2 \\\n",
    "--incremental append \\\n",
    "--check-column id \\\n",
    "--last-value 26 \\\n",
    "-m 1 \\\n",
    "--hs2-url \"jdbc:hive2://ip-172-31-3-80.eu-west-2.compute.internal:10000/yadb\""
   ]
  },
  {
   "cell_type": "code",
   "execution_count": null,
   "id": "a4b9b1f1",
   "metadata": {},
   "outputs": [],
   "source": []
  },
  {
   "cell_type": "code",
   "execution_count": null,
   "id": "4c4cf3d4",
   "metadata": {},
   "outputs": [],
   "source": []
  },
  {
   "cell_type": "code",
   "execution_count": null,
   "id": "5b8b8175",
   "metadata": {},
   "outputs": [],
   "source": [
    "sqoop import --connect jdbc:postgresql://ec2-3-9-191-104.eu-west-2.compute.amazonaws.com:5432/testdb --username consultants --password WelcomeItc@2022 --query 'SELECT * FROM public.person WHERE id > 7 AND $CONDITIONS' --target-dir /tmp/USUK30/Asad/import/ --split-by id --as-textfile --incremental append --check-column id --last-value 112"
   ]
  }
 ],
 "metadata": {
  "kernelspec": {
   "display_name": "Python 3 (ipykernel)",
   "language": "python",
   "name": "python3"
  },
  "language_info": {
   "codemirror_mode": {
    "name": "ipython",
    "version": 3
   },
   "file_extension": ".py",
   "mimetype": "text/x-python",
   "name": "python",
   "nbconvert_exporter": "python",
   "pygments_lexer": "ipython3",
   "version": "3.11.4"
  }
 },
 "nbformat": 4,
 "nbformat_minor": 5
}
