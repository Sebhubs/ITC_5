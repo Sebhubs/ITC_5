{
 "cells": [
  {
   "cell_type": "code",
   "execution_count": 1,
   "id": "e05154d9",
   "metadata": {},
   "outputs": [
    {
     "data": {
      "text/plain": [
       "2"
      ]
     },
     "execution_count": 1,
     "metadata": {},
     "output_type": "execute_result"
    }
   ],
   "source": [
    "1+1"
   ]
  },
  {
   "cell_type": "code",
   "execution_count": 2,
   "id": "dbba77fe",
   "metadata": {},
   "outputs": [],
   "source": [
    "# Create a list of numbers from 1 through 10\n",
    "numbers = list(range(1, 11)) "
   ]
  },
  {
   "cell_type": "code",
   "execution_count": 3,
   "id": "665ec323",
   "metadata": {},
   "outputs": [
    {
     "name": "stdout",
     "output_type": "stream",
     "text": [
      "2\n",
      "4\n",
      "6\n",
      "8\n",
      "10\n"
     ]
    }
   ],
   "source": [
    "# Iterate through the list and print only the even numbers\n",
    "for number in numbers:\n",
    "    if (number % 2) == 0:\n",
    "        print(number)\n"
   ]
  },
  {
   "cell_type": "code",
   "execution_count": 9,
   "id": "ad992d06",
   "metadata": {},
   "outputs": [
    {
     "name": "stdout",
     "output_type": "stream",
     "text": [
      "List of words: ['the', 'quick', 'brown', 'fox', 'jumps', 'over', 'the', 'lazy', 'dog']\n"
     ]
    }
   ],
   "source": [
    "def string_to_words(input_string):\n",
    "    words = input_string.split()\n",
    "    return words\n",
    "\n",
    "# Example\n",
    "input_string = \"the quick brown fox jumps over the lazy dog\"\n",
    "words_list = string_to_words(input_string)\n",
    "print(\"List of words:\", words_list)\n"
   ]
  },
  {
   "cell_type": "code",
   "execution_count": null,
   "id": "760e18c3",
   "metadata": {},
   "outputs": [],
   "source": []
  }
 ],
 "metadata": {
  "kernelspec": {
   "display_name": "Python 3 (ipykernel)",
   "language": "python",
   "name": "python3"
  },
  "language_info": {
   "codemirror_mode": {
    "name": "ipython",
    "version": 3
   },
   "file_extension": ".py",
   "mimetype": "text/x-python",
   "name": "python",
   "nbconvert_exporter": "python",
   "pygments_lexer": "ipython3",
   "version": "3.11.4"
  }
 },
 "nbformat": 4,
 "nbformat_minor": 5
}
