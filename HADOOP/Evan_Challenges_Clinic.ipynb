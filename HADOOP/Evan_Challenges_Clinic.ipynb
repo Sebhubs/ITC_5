{
 "cells": [
  {
   "cell_type": "markdown",
   "id": "f221a2d0",
   "metadata": {},
   "source": [
    "## 1. Reverse a string without reverse"
   ]
  },
  {
   "cell_type": "code",
   "execution_count": 3,
   "id": "9b53e38d",
   "metadata": {},
   "outputs": [],
   "source": [
    "def reverse_string(s):\n",
    "    return s[::-1] "
   ]
  },
  {
   "cell_type": "code",
   "execution_count": 5,
   "id": "4af40ff4",
   "metadata": {},
   "outputs": [
    {
     "data": {
      "text/plain": [
       "'reniart taerg a si navE'"
      ]
     },
     "execution_count": 5,
     "metadata": {},
     "output_type": "execute_result"
    }
   ],
   "source": [
    "s = \"Evan is a great trainer\"\n",
    "reverse_string(s)"
   ]
  },
  {
   "cell_type": "markdown",
   "id": "3eeb0e7f",
   "metadata": {},
   "source": [
    "## 2. Remove duplicates and keep order"
   ]
  },
  {
   "cell_type": "code",
   "execution_count": 14,
   "id": "3f29423d",
   "metadata": {},
   "outputs": [
    {
     "data": {
      "text/plain": [
       "[1, 1, 2, 5, 5, 3, 6, 2, 1, 1, 3, 7, 5, 5, 3]"
      ]
     },
     "execution_count": 14,
     "metadata": {},
     "output_type": "execute_result"
    }
   ],
   "source": [
    "lst"
   ]
  },
  {
   "cell_type": "code",
   "execution_count": 18,
   "id": "217635ec",
   "metadata": {},
   "outputs": [
    {
     "data": {
      "text/plain": [
       "[1, 2, 5, 3, 6, 7]"
      ]
     },
     "execution_count": 18,
     "metadata": {},
     "output_type": "execute_result"
    }
   ],
   "source": [
    "L = []\n",
    "for i, item in enumerate(lst): \n",
    "    if item not in lst[:i]:\n",
    "        L.append(item)\n",
    "L"
   ]
  },
  {
   "cell_type": "code",
   "execution_count": 15,
   "id": "c4203616",
   "metadata": {},
   "outputs": [
    {
     "data": {
      "text/plain": [
       "[1, 2, 5, 3, 6, 7]"
      ]
     },
     "execution_count": 15,
     "metadata": {},
     "output_type": "execute_result"
    }
   ],
   "source": [
    "def rmDuplicatesInOrder(lst):\n",
    "    L = []\n",
    "    for i, item in enumerate(lst): \n",
    "        if item not in lst[:i]:\n",
    "            L.append(item)\n",
    "    return L\n",
    "\n",
    "rmDuplicatesInOrder(lst)"
   ]
  },
  {
   "cell_type": "code",
   "execution_count": 19,
   "id": "85d4d164",
   "metadata": {},
   "outputs": [
    {
     "data": {
      "text/plain": [
       "<enumerate at 0x16ea2170fe0>"
      ]
     },
     "execution_count": 19,
     "metadata": {},
     "output_type": "execute_result"
    }
   ],
   "source": [
    "enumerate(lst)"
   ]
  },
  {
   "cell_type": "code",
   "execution_count": 17,
   "id": "dbdb904c",
   "metadata": {},
   "outputs": [
    {
     "data": {
      "text/plain": [
       "[(0, 1),\n",
       " (1, 1),\n",
       " (2, 2),\n",
       " (3, 5),\n",
       " (4, 5),\n",
       " (5, 3),\n",
       " (6, 6),\n",
       " (7, 2),\n",
       " (8, 1),\n",
       " (9, 1),\n",
       " (10, 3),\n",
       " (11, 7),\n",
       " (12, 5),\n",
       " (13, 5),\n",
       " (14, 3)]"
      ]
     },
     "execution_count": 17,
     "metadata": {},
     "output_type": "execute_result"
    }
   ],
   "source": [
    "list(enumerate(lst))"
   ]
  },
  {
   "cell_type": "code",
   "execution_count": 21,
   "id": "4312d7c9",
   "metadata": {},
   "outputs": [
    {
     "name": "stdout",
     "output_type": "stream",
     "text": [
      "[1, 2, 5, 3, 6, 7]\n"
     ]
    }
   ],
   "source": [
    "lst = [1, 1, 2, 5, 5, 3, 6, 2, 1, 1, 3, 7, 5, 5, 3]\n",
    "\n",
    "def remove_duplicates_in_order(input):\n",
    "    output = []\n",
    "    for i in input:\n",
    "        if i not in output:\n",
    "            output.append(i)\n",
    "    return output\n",
    "\n",
    "print(remove_duplicates_in_order(lst))"
   ]
  },
  {
   "cell_type": "code",
   "execution_count": null,
   "id": "173aa5d9",
   "metadata": {},
   "outputs": [],
   "source": []
  }
 ],
 "metadata": {
  "kernelspec": {
   "display_name": "Python 3 (ipykernel)",
   "language": "python",
   "name": "python3"
  },
  "language_info": {
   "codemirror_mode": {
    "name": "ipython",
    "version": 3
   },
   "file_extension": ".py",
   "mimetype": "text/x-python",
   "name": "python",
   "nbconvert_exporter": "python",
   "pygments_lexer": "ipython3",
   "version": "3.11.4"
  }
 },
 "nbformat": 4,
 "nbformat_minor": 5
}
